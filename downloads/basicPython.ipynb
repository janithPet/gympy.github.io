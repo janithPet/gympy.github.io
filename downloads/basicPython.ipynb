{
 "cells": [
  {
   "cell_type": "markdown",
   "metadata": {
    "collapsed": true
   },
   "source": [
    "The goal of this code is to take an input bottle from a yarp port named */write*, and send it through to another yarp port named */read*.\n",
    "Nothing sophisticated takes place here.\n",
    "\n",
    "The code is setup such that it will be able to take read and relay *i* number of messages.\n",
    "\n",
    "Note that prior to starting this, it is necessary to initialise the yarp port */write* and */read* by typing the following commands in separate terminal windows:\n",
    "\n",
    "yarp write /write;\n",
    "\n",
    "yarp read /read;"
   ]
  },
  {
   "cell_type": "code",
   "execution_count": null,
   "metadata": {
    "collapsed": false
   },
   "outputs": [],
   "source": [
    "#Import the library yarp\n",
    "\n",
    "import yarp"
   ]
  },
  {
   "cell_type": "code",
   "execution_count": null,
   "metadata": {
    "collapsed": true
   },
   "outputs": [],
   "source": [
    "#Start a new yary server\n",
    "yarp.Network.init()"
   ]
  },
  {
   "cell_type": "code",
   "execution_count": null,
   "metadata": {
    "collapsed": false
   },
   "outputs": [],
   "source": [
    "#Define new ports to read from /write and write to /read\n",
    "inputPort = yarp.BufferedPortBottle()\n",
    "outputPort = yarp.BufferedPortBottle()\n",
    "\n",
    "#Open the previously defined ports, and name them\n",
    "inputPort.open('/pythonIn')\n",
    "outputPort.open('/pythonOut')\n",
    "\n",
    "#Connect them to their respective pair\n",
    "yarp.Network.connect('/write','/pythonIn')\n",
    "yarp.Network.connect('/pythonOut','/read')"
   ]
  },
  {
   "cell_type": "code",
   "execution_count": null,
   "metadata": {
    "collapsed": false
   },
   "outputs": [],
   "source": [
    "#Initiate a while loop that reads from /write, and writes to /read.\n",
    "#The loop that loops for i times will process i messages.\n",
    "\n",
    "counter = 1\n",
    "i = 10\n",
    "\n",
    "while counter <= i:\n",
    "    \n",
    "    #Read a message from /write, and save it as inputBottle\n",
    "    inputBottle = inputPort.read()\n",
    "    \n",
    "    #Print the message received for verification, with the how many messages have been sent\n",
    "    x = inputBottle.toString()\n",
    "    print '[%d] %s' %(counter, x)\n",
    "    \n",
    "    #Prepare an output bottle, with pointer outputBottle\n",
    "    outputBottle = outputPort.prepare()\n",
    "    \n",
    "    #Copy the value stored in inputBottle to outputBottle\n",
    "    outputBottle.copy(inputBottle)\n",
    "    \n",
    "    #Write the outputBottle to the port /read\n",
    "    outputPort.write()\n",
    "    \n",
    "    counter = counter + 1\n",
    "    "
   ]
  },
  {
   "cell_type": "code",
   "execution_count": null,
   "metadata": {
    "collapsed": true
   },
   "outputs": [],
   "source": []
  }
 ],
 "metadata": {
  "kernelspec": {
   "display_name": "Python 2",
   "language": "python",
   "name": "python2"
  },
  "language_info": {
   "codemirror_mode": {
    "name": "ipython",
    "version": 2
   },
   "file_extension": ".py",
   "mimetype": "text/x-python",
   "name": "python",
   "nbconvert_exporter": "python",
   "pygments_lexer": "ipython2",
   "version": "2.7.12"
  }
 },
 "nbformat": 4,
 "nbformat_minor": 0
}
