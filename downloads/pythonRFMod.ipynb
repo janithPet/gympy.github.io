{
 "cells": [
  {
   "cell_type": "markdown",
   "metadata": {
    "collapsed": true
   },
   "source": [
    "This code introduces the use of a [RF (Resource Finder) module](http://www.yarp.it/classyarp_1_1os_1_1RFModule.html). It contains two loops that run simultaneously; one runs a method *updateModule* at intervals defined in the method *time*. The other works via a specialised port called a [RPC port](http://www.yarp.it/rpc_ports.html). A RPC port can send commands to the RF module, and request a response back. This response is defined in the method *respond*, the contents of which is run only when a command is sent through the RPC port. The *configure* method contains information and functions necessary for initialising the module; it is run once at the beginning.|\n",
    "\n",
    "In order to demonstrate its use, the task from the previous exercise is redone here using the properties of the RF module. Functionality is added by writing to the */read* port only with the command **print** is sent from the RPC port. \n",
    "\n",
    "As before, it is necessary to run the following commands on seperate terminal shells, after opening a yarp server:\n",
    "\n",
    "* yarp write /write\n",
    "* yarp read /read\n",
    "\n",
    "The following command is to be run on yet another terminal shell after the code below is executed.\n",
    "\n",
    "* yarp rpc /pythonRFMod\n"
   ]
  },
  {
   "cell_type": "code",
   "execution_count": 2,
   "metadata": {
    "collapsed": true
   },
   "outputs": [],
   "source": [
    "import readline\n",
    "import yarp\n",
    "import sys\n",
    "import time"
   ]
  },
  {
   "cell_type": "code",
   "execution_count": 5,
   "metadata": {
    "collapsed": false
   },
   "outputs": [],
   "source": [
    "# Here a class is defined as pythonRFMod (this can be anything), and inherits from the superclass RFModule\n",
    "class pythonRFMod(yarp.RFModule):\n",
    "\n",
    "    #All the variables that will be used in the module are listed here, as per convention. They are however defined as None.\n",
    "    def __init__(self):\n",
    "        yarp.RFModule.__init__(self)\n",
    "        self.respondPort = None\n",
    "        self.inputPort = None\n",
    "        self.outputPort = None\n",
    "        self.inputBottle = None\n",
    "        self.outputBottle = None\n",
    "        self.uniCom = None\n",
    "        self.x = None\n",
    "        \n",
    "    #This method is run once. \n",
    "    def configure(self, rf):\n",
    "        \n",
    "        #The network is initialised, and all necessary ports are defined and named here.\n",
    "        #An extra port is needed here for the RPC Module\n",
    "        yarp.Network.init()\n",
    "\n",
    "        self.respondPort = yarp.Port()\n",
    "        self.inputPort = yarp.BufferedPortBottle()\n",
    "        self.outputPort = yarp.BufferedPortBottle()\n",
    "\n",
    "        self.respondPort.open('/pythonRFMod')\n",
    "        self.inputPort.open('/pythonRead')\n",
    "        self.outputPort.open('/pythonWrite')\n",
    "        \n",
    "        #This command is needed to tell the module which port will be the RPC Port\n",
    "        self.attach(self.respondPort)\n",
    "        \n",
    "        #All necessary connections between ports are needed here.\n",
    "        yarp.Network.connect('/write', '/pythonRead')\n",
    "        yarp.Network.connect('/pythonWrite', '/read')\n",
    "\n",
    "        #The necessary bottles are initialised.\n",
    "        self.inputBottle = yarp.Bottle()\n",
    "        self.outputBottle = yarp.Bottle()\n",
    "        \n",
    "        #This is to predefine uniCom (universal command) as a string\n",
    "        self.uniCom = 'None'\n",
    "        \n",
    "        #As confirmation of completion of the configure method\n",
    "        print 'configured'\n",
    "        return True\n",
    "\n",
    "    #Respond is only run when a command is received from the RPC port.\n",
    "    #It inherits two extra variables, the command sent from the RPC, and the response to be given.\n",
    "    def respond(self, command, reply):\n",
    "        \n",
    "        #The received command is converted to a string in order to verify that the correct command was sent.\n",
    "        self.uniCom = command.toString()\n",
    "        \n",
    "        #The reply is defined here. \n",
    "        reply.clear()\n",
    "        reply.addString('Recieved command.')\n",
    "        \n",
    "        #Since the following only needs to be run if and when the right command is sent, these lines of code are placed in the respond method.\n",
    "        if self.uniCom == 'print':\n",
    "            print self.uniCom\n",
    "            \n",
    "            #Prepares and writes the received message to /read. x is defined in the updateModule method.\n",
    "            self.outputBottle = self.outputPort.prepare()\n",
    "            self.outputBottle.fromString(self.x)\n",
    "            self.outputPort.write()\n",
    "            self.uniCom = 'None'\n",
    "        return True\n",
    "\n",
    "    def getPeriod(self):\n",
    "        return 0.1\n",
    "\n",
    "    #This loops infinitely, as such, the function to read from /write is place here.\n",
    "    def updateModule(self):\n",
    "        self.inputBottle = self.inputPort.read()\n",
    "        if (self.inputBottle is not None):\n",
    "            self.x = self.inputBottle.toString()\n",
    "        else:\n",
    "            time.sleep(0.05)\n",
    "\n",
    "        return True\n",
    "    \n",
    "    #The following are utilised when the module is terminated, for example by a keyboard interrupt.\n",
    "    def interruptModule(self):\n",
    "        return True\n",
    "\n",
    "    def close(self):\n",
    "        self.inputPort.close()\n",
    "        self.outputPort.close()\n",
    "        return True"
   ]
  },
  {
   "cell_type": "code",
   "execution_count": null,
   "metadata": {
    "collapsed": false,
    "scrolled": true
   },
   "outputs": [],
   "source": [
    "#These commands run the program\n",
    "if __name__ == '__main__':\n",
    "    yarp.Network.init()\n",
    "    mod =rf pythonRFMod()\n",
    "    yrf = yarp.ResourceFinder()\n",
    "    yrf.setVerbose(True)\n",
    "    \n",
    "    yrf.configure(sys.argv)\n",
    "    mod.runModule(yrf)"
   ]
  },
  {
   "cell_type": "code",
   "execution_count": null,
   "metadata": {
    "collapsed": true
   },
   "outputs": [],
   "source": []
  }
 ],
 "metadata": {
  "kernelspec": {
   "display_name": "Python 2",
   "language": "python",
   "name": "python2"
  },
  "language_info": {
   "codemirror_mode": {
    "name": "ipython",
    "version": 2
   },
   "file_extension": ".py",
   "mimetype": "text/x-python",
   "name": "python",
   "nbconvert_exporter": "python",
   "pygments_lexer": "ipython2",
   "version": "2.7.12"
  }
 },
 "nbformat": 4,
 "nbformat_minor": 1
}
